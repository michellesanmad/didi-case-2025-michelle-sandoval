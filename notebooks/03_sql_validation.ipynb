{
 "cells": [
  {
   "cell_type": "markdown",
   "id": "09c3fe8e",
   "metadata": {},
   "source": [
    "# SQL Query Validation – Day with Highest Average Visitors\n",
    "\n",
    "This notebook validates **Query 2** using DuckDB over the original CSVs.\n",
    "\n",
    "> *“Which day of the week has more visitors on average in restaurants?”*\n",
    "\n",
    "## Approach\n",
    "- Joins `restaurants_visitors` and `date_info` on `visit_date`\n",
    "- Aggregates `reserve_visitors` per `day_of_week`\n",
    "- Sorts by average descending and returns the top day only\n",
    "- Also shows the number of records per weekday for context"
   ]
  },
  {
   "cell_type": "code",
   "execution_count": 2,
   "id": "053807a1",
   "metadata": {},
   "outputs": [
    {
     "data": {
      "text/html": [
       "<div>\n",
       "<style scoped>\n",
       "    .dataframe tbody tr th:only-of-type {\n",
       "        vertical-align: middle;\n",
       "    }\n",
       "\n",
       "    .dataframe tbody tr th {\n",
       "        vertical-align: top;\n",
       "    }\n",
       "\n",
       "    .dataframe thead th {\n",
       "        text-align: right;\n",
       "    }\n",
       "</style>\n",
       "<table border=\"1\" class=\"dataframe\">\n",
       "  <thead>\n",
       "    <tr style=\"text-align: right;\">\n",
       "      <th></th>\n",
       "      <th>day_of_week</th>\n",
       "      <th>avg_visitors</th>\n",
       "      <th>total_records</th>\n",
       "    </tr>\n",
       "  </thead>\n",
       "  <tbody>\n",
       "    <tr>\n",
       "      <th>0</th>\n",
       "      <td>Friday</td>\n",
       "      <td>4.454754</td>\n",
       "      <td>1746</td>\n",
       "    </tr>\n",
       "    <tr>\n",
       "      <th>1</th>\n",
       "      <td>Wednesday</td>\n",
       "      <td>4.216495</td>\n",
       "      <td>873</td>\n",
       "    </tr>\n",
       "    <tr>\n",
       "      <th>2</th>\n",
       "      <td>Thursday</td>\n",
       "      <td>4.115640</td>\n",
       "      <td>1055</td>\n",
       "    </tr>\n",
       "    <tr>\n",
       "      <th>3</th>\n",
       "      <td>Monday</td>\n",
       "      <td>4.049140</td>\n",
       "      <td>814</td>\n",
       "    </tr>\n",
       "    <tr>\n",
       "      <th>4</th>\n",
       "      <td>Saturday</td>\n",
       "      <td>3.983149</td>\n",
       "      <td>2077</td>\n",
       "    </tr>\n",
       "    <tr>\n",
       "      <th>5</th>\n",
       "      <td>Tuesday</td>\n",
       "      <td>3.913649</td>\n",
       "      <td>718</td>\n",
       "    </tr>\n",
       "    <tr>\n",
       "      <th>6</th>\n",
       "      <td>Sunday</td>\n",
       "      <td>3.492447</td>\n",
       "      <td>993</td>\n",
       "    </tr>\n",
       "  </tbody>\n",
       "</table>\n",
       "</div>"
      ],
      "text/plain": [
       "  day_of_week  avg_visitors  total_records\n",
       "0      Friday      4.454754           1746\n",
       "1   Wednesday      4.216495            873\n",
       "2    Thursday      4.115640           1055\n",
       "3      Monday      4.049140            814\n",
       "4    Saturday      3.983149           2077\n",
       "5     Tuesday      3.913649            718\n",
       "6      Sunday      3.492447            993"
      ]
     },
     "execution_count": 2,
     "metadata": {},
     "output_type": "execute_result"
    }
   ],
   "source": [
    "import duckdb, pandas as pd, pathlib\n",
    "\n",
    "# Paths\n",
    "DATA_PATH = pathlib.Path(\"../data/raw/Data set\")\n",
    "QUERY_PATH = pathlib.Path(\"../sql/query_2.txt\")\n",
    "\n",
    "# DuckDB connection\n",
    "con = duckdb.connect()\n",
    "\n",
    "# Clean & load CSVs\n",
    "date_info = pd.read_csv(DATA_PATH / 'date_info.csv')\n",
    "date_info = date_info[date_info['calendar_date'] != '#VALUE!']\n",
    "date_info['calendar_date'] = pd.to_datetime(date_info['calendar_date'])\n",
    "\n",
    "visitors = pd.read_csv(DATA_PATH / 'restaurants_visitors.csv')\n",
    "visitors = visitors[visitors['visit_date'] != '#VALUE!']\n",
    "visitors['visit_date'] = pd.to_datetime(visitors['visit_date'])\n",
    "\n",
    "# Register tables in DuckDB\n",
    "con.register(\"date_info\", date_info)\n",
    "con.register(\"restaurants_visitors\", visitors)\n",
    "\n",
    "# Load query and execute\n",
    "sql_query = QUERY_PATH.read_text()\n",
    "result = con.execute(sql_query).df()\n",
    "result"
   ]
  },
  {
   "cell_type": "markdown",
   "id": "cf51e5cd",
   "metadata": {},
   "source": [
    "Friday is indeed highest and shows how the other days compare. Campaigns or promos scheduled for Fridays are likely to reach the greatest foot-traffic baseline, while quieter days (e.g., Sunday) might benefit more from traffic-boosting initiatives."
   ]
  }
 ],
 "metadata": {
  "kernelspec": {
   "display_name": "Python (michelle-venv)",
   "language": "python",
   "name": "michelle-venv"
  },
  "language_info": {
   "codemirror_mode": {
    "name": "ipython",
    "version": 3
   },
   "file_extension": ".py",
   "mimetype": "text/x-python",
   "name": "python",
   "nbconvert_exporter": "python",
   "pygments_lexer": "ipython3",
   "version": "3.9.6"
  }
 },
 "nbformat": 4,
 "nbformat_minor": 5
}
