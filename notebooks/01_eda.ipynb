{
 "cells": [
  {
   "cell_type": "code",
   "execution_count": null,
   "id": "16107c1f",
   "metadata": {
    "vscode": {
     "languageId": "plaintext"
    }
   },
   "outputs": [],
   "source": [
    "import pandas as pd, pathlib\n",
    "\n",
    "#Ruta a la carpeta con los CSVs\n",
    "DATA = pathlib.Path('../data/raw/\"Data set\"')\n",
    "\n",
    "# Carga de los 3 archivos\n",
    "date_info  = pd.read_csv(DATA / 'date_info.csv', parse_dates=['calendar_date'])\n",
    "visitors   = pd.read_csv(DATA / 'restaurants_visitors.csv',\n",
    "                         parse_dates=['visit_date','visit_datetime','reserve_datetime'])\n",
    "store_info = pd.read_csv(DATA / 'store_info.csv')\n",
    "\n",
    "# Verificamos los tamaños y mostramos las primeras filas\n",
    "for name, df in [('date_info', date_info),\n",
    "                 ('visitors', visitors),\n",
    "                 ('store_info', store_info)]:\n",
    "    print(f\"{name}: {df.shape}\")\n",
    "    display(df.head())\n"
   ]
  },
  {
   "cell_type": "code",
   "execution_count": null,
   "id": "2a08037f",
   "metadata": {
    "vscode": {
     "languageId": "plaintext"
    }
   },
   "outputs": [],
   "source": []
  }
 ],
 "metadata": {
  "language_info": {
   "name": "python"
  }
 },
 "nbformat": 4,
 "nbformat_minor": 5
}
